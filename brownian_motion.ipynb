{
 "cells": [
  {
   "cell_type": "markdown",
   "metadata": {},
   "source": [
    "# Random Walk"
   ]
  },
  {
   "cell_type": "markdown",
   "metadata": {},
   "source": [
    "### Imports"
   ]
  },
  {
   "cell_type": "code",
   "execution_count": 1,
   "metadata": {},
   "outputs": [],
   "source": [
    "import numpy as np # for calculations\n",
    "from matplotlib import pyplot as plt # for plotting\n",
    "import time # for sleeping\n",
    "from IPython.display import display, clear_output # for graphing\n",
    "from typing import Tuple, List # for type hinting"
   ]
  },
  {
   "cell_type": "markdown",
   "metadata": {},
   "source": [
    "### Class walker"
   ]
  },
  {
   "cell_type": "code",
   "execution_count": null,
   "metadata": {},
   "outputs": [],
   "source": [
    "class Walker(object):\n",
    "    '''\n",
    "    \n",
    "    '''\n",
    "    x: float # starting x-coordinate\n",
    "    y: float # starting y-coordinate\n",
    "    coords: list # stores all x, y coordinates along walked path\n",
    "    total_steps: int # stores total number of steps taken by a walker\n",
    "        \n",
    "    def __init__(self,\n",
    "                 x: float,\n",
    "                 y: float\n",
    "                ) -> None:\n",
    "        '''\n",
    "        Initializes global objects\n",
    "        '''\n",
    "        self.x, self.y = x, y\n",
    "        self.coords = [(x, y)]\n",
    "        self.total_steps = 1\n",
    "        \n",
    "    def __repr__(self\n",
    "                ) -> str:\n",
    "        '''\n",
    "        Repr to display walker-object information\n",
    "        '''\n",
    "        return 'Walker(x: {}, y: {}, total_steps: {})'.format(self.x, self.y, self.total_steps)\n",
    "        \n",
    "    def set_next_step(self,\n",
    "                      next_x: float,\n",
    "                      next_y: float\n",
    "                     ) -> None:\n",
    "        '''\n",
    "        Stores next step location\n",
    "        '''\n",
    "        self.total_steps += 1\n",
    "        self.coords.append((next_x, next_y))\n",
    "        \n",
    "    def get_x_y(self\n",
    "               ) -> Tuple[List[float], List[float]]:\n",
    "        '''\n",
    "        Returns two lists of total_steps number of x and y co-ordinates\n",
    "        '''\n",
    "        return [coords[0] for coords in self.coords], [coords[1] for coords in self.coords]"
   ]
  },
  {
   "cell_type": "markdown",
   "metadata": {},
   "source": [
    "### Class Random walk"
   ]
  },
  {
   "cell_type": "code",
   "execution_count": 19,
   "metadata": {},
   "outputs": [],
   "source": [
    "class RandomWalk(object):\n",
    "    '''\n",
    "    Calculates and displays the random-path taken by a walker\n",
    "    '''\n",
    "    seed: int # seed for reproducability\n",
    "    n_walkers: int # number of random walkers whose path is to be calculated\n",
    "    step_size: float # how far a walker can go in one time-step\n",
    "    \n",
    "    def __init__(self,\n",
    "                 n_walkers: int = 100,\n",
    "                 seed: int = 42,\n",
    "                 step_size: float = 0.1\n",
    "                ) -> None:\n",
    "        '''\n",
    "        Initializes global objects and sets seed\n",
    "        '''\n",
    "        self.n_walkers, self.seed, self.step_size = n_walkers, seed, step_size\n",
    "        if self.seed != -1:\n",
    "            np.random.seed(self.seed)\n",
    "        else:\n",
    "            # set seed as random\n",
    "            np.random.seed(np.random.randint(0, 2 ** 31 - 1))\n",
    "        \n",
    "    def _get_random_coords(self\n",
    "                          ) -> Tuple[float, float]:\n",
    "        '''\n",
    "        Returns x, y co-ordinates picked randomly from\n",
    "        a uniform distribution\n",
    "        '''\n",
    "        x, y = np.random.uniform(size=2)\n",
    "        return x, y\n",
    "    \n",
    "    def _get_next_step(self,\n",
    "                       x: float,\n",
    "                       y: float\n",
    "                      ) -> Tuple[float, float]:\n",
    "        '''\n",
    "        Calculates the next random-step a walker takes\n",
    "        '''\n",
    "        alpha = np.random.randint(low=0, high=361) # Get the angle in degrees in which the walker takes step towards\n",
    "        alpha = (alpha * np.math.pi) / 180 # convert degrees to radians\n",
    "        next_x = x + (self.step_size * np.math.cos(alpha)) # get next x-co-ordinate\n",
    "        next_y = y + (self.step_size * np.math.sin(alpha)) # get next y-co-ordinate\n",
    "        return next_x, next_y\n",
    "    \n",
    "    def _get_timesteps(self,\n",
    "                       max_time: float = 5.0, # maximum time\n",
    "                       timestep_size: float = 0.1 # take a walk at this frequency\n",
    "                      ) -> List[float]:\n",
    "        '''\n",
    "        Returns an iterable containing one timestep per element\n",
    "        '''\n",
    "        return np.arange(0, max_time, timestep_size)\n",
    "            \n",
    "    def display(self,\n",
    "                axes: str = 'on', # if on, shows grid, else does not\n",
    "                wait: float = 0.5 # sleep time before next step is taken\n",
    "               ) -> None:\n",
    "        '''\n",
    "        Displays the random-walk taken by all the n_walkers\n",
    "        '''\n",
    "        walkers = list()\n",
    "        for i in range(self.n_walkers):\n",
    "            # initialize all walkers\n",
    "            x, y = self._get_random_coords()\n",
    "            walkers.append(Walker(x, y))\n",
    "            \n",
    "        for time_step in self._get_timesteps():\n",
    "            # for each time-step\n",
    "            \n",
    "            for walker in walkers:\n",
    "                # for each walker\n",
    "                \n",
    "                latest_x, latest_y = walker.coords[-1] # get previous location\n",
    "                next_x, next_y = self._get_next_step(latest_x, latest_y) # get next location\n",
    "                walker.set_next_step(next_x, next_y) # store this new location\n",
    "                x, y = walker.get_x_y() # get all path co-ordinates\n",
    "                plt.scatter(x, y) # plot scatter plot of walker positions\n",
    "                plt.plot(x, y) # connect these points to depict direction\n",
    "                \n",
    "            clear_output(wait=True) # clears previous graph when next one is generated\n",
    "            plt.axis(axes) # to turn-on or turn-off axes\n",
    "            plt.show() # displays the new graph\n",
    "            time.sleep(wait) # sleep for wait seconds"
   ]
  },
  {
   "cell_type": "markdown",
   "metadata": {},
   "source": [
    "### Displaying the path"
   ]
  },
  {
   "cell_type": "code",
   "execution_count": 21,
   "metadata": {},
   "outputs": [
    {
     "data": {
      "image/png": "[encoded data removed]",
      "text/plain": [
       "<Figure size 432x288 with 1 Axes>"
      ]
     },
     "metadata": {
      "needs_background": "light"
     },
     "output_type": "display_data"
    }
   ],
   "source": [
    "random_walk = RandomWalk(n_walkers=5, seed=-1)\n",
    "random_walk.display(axes='off')"
   ]
  }
 ],
 "metadata": {
  "kernelspec": {
   "display_name": "Python 3",
   "language": "python",
   "name": "python3"
  },
  "language_info": {
   "codemirror_mode": {
    "name": "ipython",
    "version": 3
   },
   "file_extension": ".py",
   "mimetype": "text/x-python",
   "name": "python",
   "nbconvert_exporter": "python",
   "pygments_lexer": "ipython3",
   "version": "3.8.5"
  }
 },
 "nbformat": 4,
 "nbformat_minor": 4
}
